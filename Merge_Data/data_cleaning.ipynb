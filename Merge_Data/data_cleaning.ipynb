{
 "cells": [
  {
   "cell_type": "code",
   "execution_count": 1,
   "metadata": {},
   "outputs": [],
   "source": [
    "import pandas as pd\n",
    "import numpy as np\n",
    "import matplotlib.pyplot as plt\n",
    "import datetime as dt"
   ]
  },
  {
   "cell_type": "code",
   "execution_count": 7,
   "metadata": {},
   "outputs": [],
   "source": [
    "netflixDf = pd.read_csv('netflix_titles.csv')\n",
    "showsDf = pd.read_csv('netflix_shows.csv', encoding='latin-1')"
   ]
  },
  {
   "cell_type": "markdown",
   "metadata": {},
   "source": [
    "Calculate the amount of null values in each row"
   ]
  },
  {
   "cell_type": "code",
   "execution_count": 8,
   "metadata": {},
   "outputs": [
    {
     "data": {
      "text/plain": [
       "show_id          0.000000\n",
       "type             0.000000\n",
       "title            0.000000\n",
       "director        31.584857\n",
       "cast             9.143407\n",
       "country          7.635547\n",
       "date_added       0.176452\n",
       "release_year     0.000000\n",
       "rating           0.160411\n",
       "duration         0.000000\n",
       "listed_in        0.000000\n",
       "description      0.000000\n",
       "dtype: float64"
      ]
     },
     "execution_count": 8,
     "metadata": {},
     "output_type": "execute_result"
    }
   ],
   "source": [
    "netflixDf.isnull().sum()/6234*100"
   ]
  },
  {
   "cell_type": "code",
   "execution_count": 9,
   "metadata": {},
   "outputs": [
    {
     "data": {
      "text/plain": [
       "title                0.000000\n",
       "rating               0.000000\n",
       "ratingLevel          0.946423\n",
       "ratingDescription    0.000000\n",
       "release year         0.000000\n",
       "user rating score    6.336221\n",
       "user rating size     0.000000\n",
       "dtype: float64"
      ]
     },
     "execution_count": 9,
     "metadata": {},
     "output_type": "execute_result"
    }
   ],
   "source": [
    "showsDf.isnull().sum()/6234*100"
   ]
  },
  {
   "cell_type": "markdown",
   "metadata": {},
   "source": [
    "Merge the two data frames, apply some data cleaning."
   ]
  },
  {
   "cell_type": "code",
   "execution_count": 34,
   "metadata": {},
   "outputs": [
    {
     "data": {
      "text/plain": [
       "(58, 13)"
      ]
     },
     "execution_count": 34,
     "metadata": {},
     "output_type": "execute_result"
    }
   ],
   "source": [
    "pd.set_option('display.max_rows', None)\n",
    "\n",
    "tempDf=pd.DataFrame(columns=['title', 'rating'])\n",
    "tempDf['title'] = showsDf['title']\n",
    "tempDf['rating'] = showsDf['user rating score']\n",
    "\n",
    "# Drop entries that don't have a user score\n",
    "tempDf = tempDf.dropna()\n",
    "\n",
    "# In this data set, multiple seasons of a show are input with the same title.\n",
    "# To circumvent duplicate data, we grouped the common titles together and\n",
    "# took the average of the ratings. Instead of ratings for each season, we now\n",
    "# have the average rating of the show.\n",
    "tempDf = tempDf.groupby(['title']).mean()\n",
    "\n",
    "# Inner join from new dataframe with the netflix dataframe\n",
    "merged_inner = pd.merge(left=netflixDf, right=tempDf, left_on='title', right_on='title')\n",
    "\n",
    "# Some movies and TV Shows have the same name, so we drop all the movies\n",
    "# As the ratings data frame only has ratings for TV Shows\n",
    "merged_inner = merged_inner.loc[merged_inner['type'] == 'TV Show']\n",
    "\n",
    "# Remove all entries that were released after 2018, since the ratings only\n",
    "# deals with TV Shows released 2017 and before.\n",
    "merged_inner = merged_inner.loc[merged_inner['release_year'] < 2018]\n",
    "\n",
    "merged_inner.shape"
   ]
  },
  {
   "cell_type": "code",
   "execution_count": null,
   "metadata": {},
   "outputs": [],
   "source": []
  }
 ],
 "metadata": {
  "kernelspec": {
   "display_name": "Python 3",
   "language": "python",
   "name": "python3"
  },
  "language_info": {
   "codemirror_mode": {
    "name": "ipython",
    "version": 3
   },
   "file_extension": ".py",
   "mimetype": "text/x-python",
   "name": "python",
   "nbconvert_exporter": "python",
   "pygments_lexer": "ipython3",
   "version": "3.7.4"
  }
 },
 "nbformat": 4,
 "nbformat_minor": 2
}
